{
 "cells": [
  {
   "cell_type": "code",
   "execution_count": 1,
   "id": "b36f4cd0",
   "metadata": {},
   "outputs": [],
   "source": [
    "a = 3 + 4"
   ]
  },
  {
   "cell_type": "code",
   "execution_count": 2,
   "id": "def5d994",
   "metadata": {},
   "outputs": [
    {
     "data": {
      "text/plain": [
       "7"
      ]
     },
     "execution_count": 2,
     "metadata": {},
     "output_type": "execute_result"
    }
   ],
   "source": [
    "a"
   ]
  },
  {
   "cell_type": "code",
   "execution_count": 3,
   "id": "0eeba1bc",
   "metadata": {},
   "outputs": [],
   "source": [
    "b = \"learning python with us\""
   ]
  },
  {
   "cell_type": "code",
   "execution_count": 4,
   "id": "f223181f",
   "metadata": {},
   "outputs": [
    {
     "data": {
      "text/plain": [
       "'learning python with us'"
      ]
     },
     "execution_count": 4,
     "metadata": {},
     "output_type": "execute_result"
    }
   ],
   "source": [
    "b"
   ]
  },
  {
   "cell_type": "markdown",
   "id": "09e87cf7",
   "metadata": {},
   "source": [
    "# Python in 40 days"
   ]
  },
  {
   "cell_type": "code",
   "execution_count": 6,
   "id": "334c252c",
   "metadata": {},
   "outputs": [
    {
     "name": "stdout",
     "output_type": "stream",
     "text": [
      "Hello! World\n"
     ]
    }
   ],
   "source": [
    "print(\"Hello! World\")"
   ]
  },
  {
   "cell_type": "code",
   "execution_count": 7,
   "id": "97513106",
   "metadata": {},
   "outputs": [
    {
     "name": "stdout",
     "output_type": "stream",
     "text": [
      "13\n"
     ]
    }
   ],
   "source": [
    "print(6+7)"
   ]
  },
  {
   "cell_type": "code",
   "execution_count": 20,
   "id": "7f53d5f8",
   "metadata": {},
   "outputs": [
    {
     "name": "stdout",
     "output_type": "stream",
     "text": [
      "Ahmed is elder than osman\n"
     ]
    }
   ],
   "source": [
    "ahmed_age=7\n",
    "osman_age=3\n",
    "if ahmed_age>osman_age:\n",
    "    print(\"Ahmed is elder than osman\")\n",
    "elif ahmed_age==osman_age:\n",
    "    print(\"Osman is younger than ahmed\")\n",
    "else: \n",
    "    print(\"osman and ahmed are the same age\")"
   ]
  }
 ],
 "metadata": {
  "kernelspec": {
   "display_name": "Python 3 (ipykernel)",
   "language": "python",
   "name": "python3"
  },
  "language_info": {
   "codemirror_mode": {
    "name": "ipython",
    "version": 3
   },
   "file_extension": ".py",
   "mimetype": "text/x-python",
   "name": "python",
   "nbconvert_exporter": "python",
   "pygments_lexer": "ipython3",
   "version": "3.9.12"
  }
 },
 "nbformat": 4,
 "nbformat_minor": 5
}
